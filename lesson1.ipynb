{
 "cells": [
  {
   "cell_type": "markdown",
   "id": "9739897c-feb7-4c36-96a3-75f35b564089",
   "metadata": {},
   "source": [
    "## Задача 1\n",
    "\n",
    "### 1.1 Соедините два словаря в один.\n",
    "```\n",
    "dict1 = {'One': 1, 'Two': 2, 'Three': 3}\n",
    "dict2 = {'Four': 4, 'Five': 5, 'Six': 6}\n",
    "```\n"
   ]
  },
  {
   "cell_type": "code",
   "execution_count": 4,
   "id": "e18ae3f9-fba5-4ba5-8966-1c900642584f",
   "metadata": {
    "tags": []
   },
   "outputs": [],
   "source": [
    "dict1 = {'One': 1, 'Two': 2, 'Three': 3}\n",
    "dict2 = {'Four': 4, 'Five': 5, 'Six': 6}"
   ]
  },
  {
   "cell_type": "code",
   "execution_count": 7,
   "id": "ba2c28bd-d5a8-4e51-b789-b83ddef3c9ab",
   "metadata": {
    "tags": []
   },
   "outputs": [
    {
     "data": {
      "text/plain": [
       "{'One': 1, 'Two': 2, 'Three': 3, 'Four': 4, 'Five': 5, 'Six': 6}"
      ]
     },
     "execution_count": 7,
     "metadata": {},
     "output_type": "execute_result"
    }
   ],
   "source": [
    "def merge_dicts(dict1, dict2):\n",
    "    dict1.update(dict2)\n",
    "    return dict1\n",
    "\n",
    "merge_dicts(dict1, dict2)"
   ]
  },
  {
   "cell_type": "markdown",
   "id": "337b4ef1-a255-4e69-ad52-37114b18b6d5",
   "metadata": {},
   "source": [
    "## Задача 2\n",
    "\n",
    "Напишите функцию, которая из двух списков, делает один словарь, где элементы из первого списка - ключи, а элементы из второго списка - значения\n",
    "\n",
    "```\n",
    "keys = ['One', 'Two', 'Three']\n",
    "values = [1, 2, 3]\n",
    "```\n"
   ]
  },
  {
   "cell_type": "code",
   "execution_count": 8,
   "id": "d006e0e0-3e8a-4703-935e-bde245636161",
   "metadata": {
    "tags": []
   },
   "outputs": [],
   "source": [
    "keys = ['One', 'Two', 'Three']\n",
    "values = [1, 2, 3]"
   ]
  },
  {
   "cell_type": "markdown",
   "id": "d133d128-eed9-4d91-8128-49147dc624ce",
   "metadata": {},
   "source": [
    "### 2.1 Используя цикл for\n"
   ]
  },
  {
   "cell_type": "code",
   "execution_count": 10,
   "id": "f2b3fd55-ac4b-4568-bf94-452623f5fede",
   "metadata": {
    "tags": []
   },
   "outputs": [
    {
     "data": {
      "text/plain": [
       "{'One': 1, 'Two': 2, 'Three': 3}"
      ]
     },
     "execution_count": 10,
     "metadata": {},
     "output_type": "execute_result"
    }
   ],
   "source": [
    "def get_dict(keys, values):\n",
    "    res_dict = {} # = dict()\n",
    "    for i in range(len(keys)):\n",
    "        res_dict.update({keys[i]: values[i]})\n",
    "    return res_dict\n",
    "\n",
    "get_dict(keys, values)"
   ]
  },
  {
   "cell_type": "markdown",
   "id": "402ae247-29aa-4acd-9e0b-3a3506ab1c4c",
   "metadata": {},
   "source": [
    "### 2.2 Используя dict comprehensions"
   ]
  },
  {
   "cell_type": "code",
   "execution_count": 11,
   "id": "cbf2b445-8321-4bf0-8f7a-97ff2ca252ab",
   "metadata": {
    "tags": []
   },
   "outputs": [
    {
     "data": {
      "text/plain": [
       "{'One': 1, 'Two': 2, 'Three': 3}"
      ]
     },
     "execution_count": 11,
     "metadata": {},
     "output_type": "execute_result"
    }
   ],
   "source": [
    "def get_dict(keys, values):\n",
    "    return {keys[i]: values[i] for i in range(len(values))}\n",
    "\n",
    "get_dict(keys, values)"
   ]
  },
  {
   "cell_type": "markdown",
   "id": "3462adb5-c149-4cc6-8036-d8cd1f9c2f96",
   "metadata": {},
   "source": [
    "### Задача 3\n",
    "Извлеките только два ключа name и age из представленного словаря\n",
    "```\n",
    "client_dict = {\n",
    "\"name\": \"John\",\n",
    "\"age\": 25,\n",
    "\"salary\": 5000,\n",
    "\"city\": \"Moscow\"\n",
    "}\n",
    "```\n",
    "#### 3.1 Напишите функцию с циклом for\n",
    "Функция на вход принимает:\n",
    "исходный словарь\n",
    "ключи, которые нужно извлечь (аргумент по умолчанию)\n",
    "\n",
    "На выходе словарь с нужными ключами\n",
    "\n",
    "Используйте аннотирование типов\n"
   ]
  },
  {
   "cell_type": "code",
   "execution_count": 14,
   "id": "9159dc9f-d21e-45a3-906a-4fa5a6e07509",
   "metadata": {
    "tags": []
   },
   "outputs": [],
   "source": [
    "client_dict = {\n",
    "\"name\": \"John\",\n",
    "\"age\": 25,\n",
    "\"salary\": 5000,\n",
    "\"city\": \"Moscow\"\n",
    "}"
   ]
  },
  {
   "cell_type": "code",
   "execution_count": 15,
   "id": "76382ec0-9864-4a8b-803a-d2d47f27dc57",
   "metadata": {
    "tags": []
   },
   "outputs": [],
   "source": [
    "keys = ['name', 'age']"
   ]
  },
  {
   "cell_type": "code",
   "execution_count": 16,
   "id": "00e5ea67-8597-470a-ab00-575c56328970",
   "metadata": {
    "tags": []
   },
   "outputs": [
    {
     "data": {
      "text/plain": [
       "{'name': 'John', 'age': 25}"
      ]
     },
     "execution_count": 16,
     "metadata": {},
     "output_type": "execute_result"
    }
   ],
   "source": [
    "def get_keys(base_dict, keys: list=['name', 'age']):\n",
    "    res_dict = {}\n",
    "    for i in keys:\n",
    "        res_dict.update({i: base_dict[i]})\n",
    "    return res_dict\n",
    "\n",
    "get_keys(client_dict)"
   ]
  },
  {
   "cell_type": "markdown",
   "id": "8650b7f7-f041-4a8c-aad2-748a85fcd15a",
   "metadata": {},
   "source": [
    "#### 3.2 Используя dict comprehensions"
   ]
  },
  {
   "cell_type": "code",
   "execution_count": 17,
   "id": "9287d746-6988-4aef-aadd-95987b60bdad",
   "metadata": {
    "tags": []
   },
   "outputs": [
    {
     "data": {
      "text/plain": [
       "{'name': 'John', 'age': 25}"
      ]
     },
     "execution_count": 17,
     "metadata": {},
     "output_type": "execute_result"
    }
   ],
   "source": [
    "new_dict = {i: client_dict[i] for i in keys}\n",
    "new_dict"
   ]
  },
  {
   "cell_type": "markdown",
   "id": "1d9df49f-5386-413a-ae66-ff6ad11290d3",
   "metadata": {},
   "source": [
    "### Задача 5\n",
    "\n",
    "#### 5.1 Найдите картинку в интернете и прикрепите её в ячейку с текстом"
   ]
  },
  {
   "cell_type": "markdown",
   "id": "e342b2b3-8d56-42b2-977b-be2119575144",
   "metadata": {},
   "source": [
    "<img src='https://cdn.playcaliber.com/site/media/news/2021/06/01/4-%D0%A2%D0%B0%D0%B1%D0%BB%D0%B8%D1%86%D0%B0-%D0%BC%D0%B0%D0%BB%D0%B5%D0%BD%D1%8C%D0%BA%D0%B0%D1%8F-%D0%BF%D0%BE-%D1%80%D0%B5%D0%B6%D0%B8%D0%BC%D0%B0%D0%BC-1280%D1%85853.jpg' width=400>"
   ]
  },
  {
   "cell_type": "markdown",
   "id": "401a1bfd-7e02-4851-854e-155cbb1b5c90",
   "metadata": {},
   "source": [
    "#### 5.2 Создайте следующую таблицу в ячейке с текстом"
   ]
  },
  {
   "cell_type": "markdown",
   "id": "6fc9e217-c44a-46a5-8371-4b723f7dd458",
   "metadata": {},
   "source": [
    "<table>\n",
    "    <tr>\n",
    "        <td> </td>\n",
    "        <td>До события</td>\n",
    "        <td>Во время события</td>\n",
    "    </tr>\n",
    "    <tr>\n",
    "        <td>1 контрольная точка</td>\n",
    "        <td>250</td>\n",
    "        <td>500</td>\n",
    "    </tr>\n",
    "    <tr>\n",
    "        <td>2 контрольная точка</td>\n",
    "        <td>350</td>\n",
    "        <td>700</td>\n",
    "    </tr>\n",
    "    <tr>\n",
    "        <td>3 контрольная точка</td>\n",
    "        <td>400</td>\n",
    "        <td>800</td>\n",
    "    </tr>\n",
    "    <tr>\n",
    "        <td>Итог за победу</td>\n",
    "        <td>1000</td>\n",
    "        <td>2000</td>\n",
    "    </tr>\n",
    "</table>"
   ]
  },
  {
   "cell_type": "markdown",
   "id": "deed2124-1dfa-47c3-91b2-e48594e9dce0",
   "metadata": {},
   "source": [
    "### Задача 6\n",
    "\n",
    "Напишите функцию, которая может принимать любое количество трат пользователя и считать сумму и среднее.\n",
    "\n",
    "- На вход поступают целочисленные значения в любом количестве\n",
    "- На выходе словарь с ключами суммы трат и средней траты\n",
    "\n"
   ]
  },
  {
   "cell_type": "code",
   "execution_count": 18,
   "id": "eb8ee413-c379-4ff7-9de0-bf889ff14afb",
   "metadata": {
    "tags": []
   },
   "outputs": [
    {
     "data": {
      "text/plain": [
       "{'sum': 55, 'mean': 5.5}"
      ]
     },
     "execution_count": 18,
     "metadata": {},
     "output_type": "execute_result"
    }
   ],
   "source": [
    "def calc_purchacses(*args):\n",
    "    sum_purch = sum(args)\n",
    "    n_purch = len(args)\n",
    "    return {\n",
    "        'sum': sum_purch,\n",
    "        'mean': sum_purch / n_purch\n",
    "    }\n",
    "\n",
    "calc_purchacses(1, 2, 3, 4, 5, 6, 7, 8, 9, 10)\n"
   ]
  },
  {
   "cell_type": "markdown",
   "id": "e72f6ac0-145a-42af-972b-45953df7c085",
   "metadata": {},
   "source": [
    "### Задача 4\n",
    "\n",
    "#### 4.1 Сгенерируйте случайные целые числа от 0 до 100 в количестве 5 штук с помощью модуля random\n",
    "\n",
    "- Зафиксируйте псевдогенерацию, чтобы сгенерированные значения всегда были одинаковые\n",
    "- Используйте list comprehensions\n"
   ]
  },
  {
   "cell_type": "code",
   "execution_count": 19,
   "id": "38d77adb-a77e-467e-a861-593b4fdd7f35",
   "metadata": {
    "tags": []
   },
   "outputs": [
    {
     "data": {
      "text/plain": [
       "[79, 32, 94, 45, 88]"
      ]
     },
     "execution_count": 19,
     "metadata": {},
     "output_type": "execute_result"
    }
   ],
   "source": [
    "import random\n",
    "random.seed(5)\n",
    "\n",
    "numbers = [random.randint(0, 100) for i in range(5)]\n",
    "numbers"
   ]
  },
  {
   "cell_type": "code",
   "execution_count": null,
   "id": "594fcc70-a5d1-4d92-9d7c-b2e087361189",
   "metadata": {},
   "outputs": [],
   "source": [
    "4.2 Напишите генератор\n",
    "Генератор на вход принимает список с данными о клиенте (данные из пункта 4.1)\n",
    "Внутри генератора реализуйте обход по списку с данными\n",
    "На каждой итерации генератор будет возвращать кортеж из двух элементов:\n",
    "данные по клиенту (в зависимости от итерации, на 0 итерации вернется 0 элемент, на 1 итерации вернется 1 элемент и тд)\n",
    "целочисленное значение, которое показывает, сколько секунд прошло с предыдущей итерации\n",
    "Примечание: секунды, которые возвращаются должны показывать время не с начала запуска генератора, а именно то время, которое прошло с предыдущей итерации. А значит время на первой итерации должно равняться 0.\n",
    "Используйте функцию time из модуля time для подсчета времени.\n",
    "Чтобы проверить работу таймера, запустите проход по генератору в цикле с time.sleep(2)\n"
   ]
  },
  {
   "cell_type": "code",
   "execution_count": null,
   "id": "46f37a16-c275-41ef-aed7-c6c9e3bf1bd3",
   "metadata": {},
   "outputs": [],
   "source": []
  }
 ],
 "metadata": {
  "kernelspec": {
   "display_name": "Python 3 (ipykernel)",
   "language": "python",
   "name": "python3"
  },
  "language_info": {
   "codemirror_mode": {
    "name": "ipython",
    "version": 3
   },
   "file_extension": ".py",
   "mimetype": "text/x-python",
   "name": "python",
   "nbconvert_exporter": "python",
   "pygments_lexer": "ipython3",
   "version": "3.11.2"
  }
 },
 "nbformat": 4,
 "nbformat_minor": 5
}
